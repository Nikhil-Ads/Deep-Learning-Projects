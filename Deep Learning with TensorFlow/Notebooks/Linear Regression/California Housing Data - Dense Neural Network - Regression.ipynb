{
 "cells": [
  {
   "cell_type": "markdown",
   "metadata": {},
   "source": [
    "# Problem Statement\n",
    "\n",
    "## About the Dataset\n",
    "\n",
    "**California Housing Data**\n",
    "\n",
    "This data set contains information about all the block groups in California from the 1990 Census. In this sample a block group on average includes 1425.5 individuals living in a geographically compact area. \n",
    "\n",
    "*The Features:*\n",
    " \n",
    "* housingMedianAge: continuous. \n",
    "* totalRooms: continuous. \n",
    "* totalBedrooms: continuous. \n",
    "* population: continuous. \n",
    "* households: continuous. \n",
    "* medianIncome: continuous. \n",
    "* medianHouseValue: continuous. \n",
    "\n",
    "## Task \n",
    "The task is to aproximate the median house value of each block from the values of the rest of the variables. \n",
    "\n",
    " It has been obtained from the LIACC repository. The original page where the data set can be found is: http://www.liaad.up.pt/~ltorgo/Regression/DataSets.html.\n",
    " "
   ]
  },
  {
   "cell_type": "markdown",
   "metadata": {},
   "source": [
    "## Importing Required Packages"
   ]
  },
  {
   "cell_type": "code",
   "execution_count": 1,
   "metadata": {},
   "outputs": [],
   "source": [
    "import numpy as np\n",
    "import pandas as pd\n",
    "import matplotlib.pyplot as plt\n",
    "%matplotlib inline\n",
    "\n",
    "import tensorflow.compat.v1 as tf"
   ]
  },
  {
   "cell_type": "markdown",
   "metadata": {},
   "source": [
    "### Required Package Setup"
   ]
  },
  {
   "cell_type": "code",
   "execution_count": 2,
   "metadata": {},
   "outputs": [],
   "source": [
    "tf.disable_eager_execution()"
   ]
  },
  {
   "cell_type": "markdown",
   "metadata": {},
   "source": [
    "## Reading CSV\n",
    "\n",
    "**Performing following actions:**\n",
    "\n",
    "* Importing the cal_housing_clean.csv file with pandas. \n",
    "* Separating it into a training (70%) and testing set(30%)."
   ]
  },
  {
   "cell_type": "code",
   "execution_count": 3,
   "metadata": {},
   "outputs": [],
   "source": [
    "cal_housing_data = pd.read_csv('cal_housing_clean.csv')"
   ]
  },
  {
   "cell_type": "markdown",
   "metadata": {},
   "source": [
    "### Printing Dataset Head"
   ]
  },
  {
   "cell_type": "code",
   "execution_count": 4,
   "metadata": {},
   "outputs": [
    {
     "data": {
      "text/html": [
       "<div>\n",
       "<style scoped>\n",
       "    .dataframe tbody tr th:only-of-type {\n",
       "        vertical-align: middle;\n",
       "    }\n",
       "\n",
       "    .dataframe tbody tr th {\n",
       "        vertical-align: top;\n",
       "    }\n",
       "\n",
       "    .dataframe thead th {\n",
       "        text-align: right;\n",
       "    }\n",
       "</style>\n",
       "<table border=\"1\" class=\"dataframe\">\n",
       "  <thead>\n",
       "    <tr style=\"text-align: right;\">\n",
       "      <th></th>\n",
       "      <th>housingMedianAge</th>\n",
       "      <th>totalRooms</th>\n",
       "      <th>totalBedrooms</th>\n",
       "      <th>population</th>\n",
       "      <th>households</th>\n",
       "      <th>medianIncome</th>\n",
       "      <th>medianHouseValue</th>\n",
       "    </tr>\n",
       "  </thead>\n",
       "  <tbody>\n",
       "    <tr>\n",
       "      <th>0</th>\n",
       "      <td>41.0</td>\n",
       "      <td>880.0</td>\n",
       "      <td>129.0</td>\n",
       "      <td>322.0</td>\n",
       "      <td>126.0</td>\n",
       "      <td>8.3252</td>\n",
       "      <td>452600.0</td>\n",
       "    </tr>\n",
       "    <tr>\n",
       "      <th>1</th>\n",
       "      <td>21.0</td>\n",
       "      <td>7099.0</td>\n",
       "      <td>1106.0</td>\n",
       "      <td>2401.0</td>\n",
       "      <td>1138.0</td>\n",
       "      <td>8.3014</td>\n",
       "      <td>358500.0</td>\n",
       "    </tr>\n",
       "    <tr>\n",
       "      <th>2</th>\n",
       "      <td>52.0</td>\n",
       "      <td>1467.0</td>\n",
       "      <td>190.0</td>\n",
       "      <td>496.0</td>\n",
       "      <td>177.0</td>\n",
       "      <td>7.2574</td>\n",
       "      <td>352100.0</td>\n",
       "    </tr>\n",
       "    <tr>\n",
       "      <th>3</th>\n",
       "      <td>52.0</td>\n",
       "      <td>1274.0</td>\n",
       "      <td>235.0</td>\n",
       "      <td>558.0</td>\n",
       "      <td>219.0</td>\n",
       "      <td>5.6431</td>\n",
       "      <td>341300.0</td>\n",
       "    </tr>\n",
       "    <tr>\n",
       "      <th>4</th>\n",
       "      <td>52.0</td>\n",
       "      <td>1627.0</td>\n",
       "      <td>280.0</td>\n",
       "      <td>565.0</td>\n",
       "      <td>259.0</td>\n",
       "      <td>3.8462</td>\n",
       "      <td>342200.0</td>\n",
       "    </tr>\n",
       "  </tbody>\n",
       "</table>\n",
       "</div>"
      ],
      "text/plain": [
       "   housingMedianAge  totalRooms  totalBedrooms  population  households  \\\n",
       "0              41.0       880.0          129.0       322.0       126.0   \n",
       "1              21.0      7099.0         1106.0      2401.0      1138.0   \n",
       "2              52.0      1467.0          190.0       496.0       177.0   \n",
       "3              52.0      1274.0          235.0       558.0       219.0   \n",
       "4              52.0      1627.0          280.0       565.0       259.0   \n",
       "\n",
       "   medianIncome  medianHouseValue  \n",
       "0        8.3252          452600.0  \n",
       "1        8.3014          358500.0  \n",
       "2        7.2574          352100.0  \n",
       "3        5.6431          341300.0  \n",
       "4        3.8462          342200.0  "
      ]
     },
     "execution_count": 4,
     "metadata": {},
     "output_type": "execute_result"
    }
   ],
   "source": [
    "cal_housing_data.head()"
   ]
  },
  {
   "cell_type": "markdown",
   "metadata": {},
   "source": [
    "### Describing the Dataset"
   ]
  },
  {
   "cell_type": "code",
   "execution_count": 5,
   "metadata": {
    "scrolled": true
   },
   "outputs": [
    {
     "data": {
      "text/html": [
       "<div>\n",
       "<style scoped>\n",
       "    .dataframe tbody tr th:only-of-type {\n",
       "        vertical-align: middle;\n",
       "    }\n",
       "\n",
       "    .dataframe tbody tr th {\n",
       "        vertical-align: top;\n",
       "    }\n",
       "\n",
       "    .dataframe thead th {\n",
       "        text-align: right;\n",
       "    }\n",
       "</style>\n",
       "<table border=\"1\" class=\"dataframe\">\n",
       "  <thead>\n",
       "    <tr style=\"text-align: right;\">\n",
       "      <th></th>\n",
       "      <th>count</th>\n",
       "      <th>mean</th>\n",
       "      <th>std</th>\n",
       "      <th>min</th>\n",
       "      <th>25%</th>\n",
       "      <th>50%</th>\n",
       "      <th>75%</th>\n",
       "      <th>max</th>\n",
       "    </tr>\n",
       "  </thead>\n",
       "  <tbody>\n",
       "    <tr>\n",
       "      <th>housingMedianAge</th>\n",
       "      <td>20640.0</td>\n",
       "      <td>28.639486</td>\n",
       "      <td>12.585558</td>\n",
       "      <td>1.0000</td>\n",
       "      <td>18.0000</td>\n",
       "      <td>29.0000</td>\n",
       "      <td>37.00000</td>\n",
       "      <td>52.0000</td>\n",
       "    </tr>\n",
       "    <tr>\n",
       "      <th>totalRooms</th>\n",
       "      <td>20640.0</td>\n",
       "      <td>2635.763081</td>\n",
       "      <td>2181.615252</td>\n",
       "      <td>2.0000</td>\n",
       "      <td>1447.7500</td>\n",
       "      <td>2127.0000</td>\n",
       "      <td>3148.00000</td>\n",
       "      <td>39320.0000</td>\n",
       "    </tr>\n",
       "    <tr>\n",
       "      <th>totalBedrooms</th>\n",
       "      <td>20640.0</td>\n",
       "      <td>537.898014</td>\n",
       "      <td>421.247906</td>\n",
       "      <td>1.0000</td>\n",
       "      <td>295.0000</td>\n",
       "      <td>435.0000</td>\n",
       "      <td>647.00000</td>\n",
       "      <td>6445.0000</td>\n",
       "    </tr>\n",
       "    <tr>\n",
       "      <th>population</th>\n",
       "      <td>20640.0</td>\n",
       "      <td>1425.476744</td>\n",
       "      <td>1132.462122</td>\n",
       "      <td>3.0000</td>\n",
       "      <td>787.0000</td>\n",
       "      <td>1166.0000</td>\n",
       "      <td>1725.00000</td>\n",
       "      <td>35682.0000</td>\n",
       "    </tr>\n",
       "    <tr>\n",
       "      <th>households</th>\n",
       "      <td>20640.0</td>\n",
       "      <td>499.539680</td>\n",
       "      <td>382.329753</td>\n",
       "      <td>1.0000</td>\n",
       "      <td>280.0000</td>\n",
       "      <td>409.0000</td>\n",
       "      <td>605.00000</td>\n",
       "      <td>6082.0000</td>\n",
       "    </tr>\n",
       "    <tr>\n",
       "      <th>medianIncome</th>\n",
       "      <td>20640.0</td>\n",
       "      <td>3.870671</td>\n",
       "      <td>1.899822</td>\n",
       "      <td>0.4999</td>\n",
       "      <td>2.5634</td>\n",
       "      <td>3.5348</td>\n",
       "      <td>4.74325</td>\n",
       "      <td>15.0001</td>\n",
       "    </tr>\n",
       "    <tr>\n",
       "      <th>medianHouseValue</th>\n",
       "      <td>20640.0</td>\n",
       "      <td>206855.816909</td>\n",
       "      <td>115395.615874</td>\n",
       "      <td>14999.0000</td>\n",
       "      <td>119600.0000</td>\n",
       "      <td>179700.0000</td>\n",
       "      <td>264725.00000</td>\n",
       "      <td>500001.0000</td>\n",
       "    </tr>\n",
       "  </tbody>\n",
       "</table>\n",
       "</div>"
      ],
      "text/plain": [
       "                    count           mean            std         min  \\\n",
       "housingMedianAge  20640.0      28.639486      12.585558      1.0000   \n",
       "totalRooms        20640.0    2635.763081    2181.615252      2.0000   \n",
       "totalBedrooms     20640.0     537.898014     421.247906      1.0000   \n",
       "population        20640.0    1425.476744    1132.462122      3.0000   \n",
       "households        20640.0     499.539680     382.329753      1.0000   \n",
       "medianIncome      20640.0       3.870671       1.899822      0.4999   \n",
       "medianHouseValue  20640.0  206855.816909  115395.615874  14999.0000   \n",
       "\n",
       "                          25%          50%           75%          max  \n",
       "housingMedianAge      18.0000      29.0000      37.00000      52.0000  \n",
       "totalRooms          1447.7500    2127.0000    3148.00000   39320.0000  \n",
       "totalBedrooms        295.0000     435.0000     647.00000    6445.0000  \n",
       "population           787.0000    1166.0000    1725.00000   35682.0000  \n",
       "households           280.0000     409.0000     605.00000    6082.0000  \n",
       "medianIncome           2.5634       3.5348       4.74325      15.0001  \n",
       "medianHouseValue  119600.0000  179700.0000  264725.00000  500001.0000  "
      ]
     },
     "execution_count": 5,
     "metadata": {},
     "output_type": "execute_result"
    }
   ],
   "source": [
    "cal_housing_data.describe().T"
   ]
  },
  {
   "cell_type": "markdown",
   "metadata": {},
   "source": [
    "### Separating Features from Predicted Values"
   ]
  },
  {
   "cell_type": "code",
   "execution_count": 6,
   "metadata": {
    "scrolled": true
   },
   "outputs": [],
   "source": [
    "medianHouseValue = cal_housing_data['medianHouseValue']"
   ]
  },
  {
   "cell_type": "code",
   "execution_count": 7,
   "metadata": {},
   "outputs": [],
   "source": [
    "X_data = cal_housing_data.drop(columns=['medianHouseValue'], axis=1)"
   ]
  },
  {
   "cell_type": "markdown",
   "metadata": {},
   "source": [
    "### Performing Train-Test Split"
   ]
  },
  {
   "cell_type": "code",
   "execution_count": 8,
   "metadata": {},
   "outputs": [],
   "source": [
    "from sklearn.model_selection import train_test_split"
   ]
  },
  {
   "cell_type": "code",
   "execution_count": 9,
   "metadata": {},
   "outputs": [],
   "source": [
    "X_train, X_test, y_train, y_test = train_test_split(X_data, medianHouseValue, test_size=0.3, random_state=101)"
   ]
  },
  {
   "cell_type": "markdown",
   "metadata": {},
   "source": [
    "## Data Preprocessing\n",
    "\n",
    "### Scaling the Feature Data\n",
    "\n",
    "**Using sklearn preprocessing to create a MinMaxScaler for the feature data. Then using it to transform X_test and X_train.**"
   ]
  },
  {
   "cell_type": "code",
   "execution_count": 10,
   "metadata": {},
   "outputs": [],
   "source": [
    "from sklearn.preprocessing import MinMaxScaler"
   ]
  },
  {
   "cell_type": "code",
   "execution_count": 11,
   "metadata": {},
   "outputs": [],
   "source": [
    "scaler = MinMaxScaler(copy=True)"
   ]
  },
  {
   "cell_type": "code",
   "execution_count": 12,
   "metadata": {},
   "outputs": [
    {
     "data": {
      "text/plain": [
       "MinMaxScaler()"
      ]
     },
     "execution_count": 12,
     "metadata": {},
     "output_type": "execute_result"
    }
   ],
   "source": [
    "scaler.fit(X_train, y_train)"
   ]
  },
  {
   "cell_type": "code",
   "execution_count": 13,
   "metadata": {},
   "outputs": [],
   "source": [
    "scaled_X_train = scaler.transform(X_train)\n",
    "scaled_X_train_df = pd.DataFrame(scaled_X_train, columns=X_train.columns, index=X_train.index)"
   ]
  },
  {
   "cell_type": "code",
   "execution_count": 14,
   "metadata": {},
   "outputs": [
    {
     "data": {
      "text/html": [
       "<div>\n",
       "<style scoped>\n",
       "    .dataframe tbody tr th:only-of-type {\n",
       "        vertical-align: middle;\n",
       "    }\n",
       "\n",
       "    .dataframe tbody tr th {\n",
       "        vertical-align: top;\n",
       "    }\n",
       "\n",
       "    .dataframe thead th {\n",
       "        text-align: right;\n",
       "    }\n",
       "</style>\n",
       "<table border=\"1\" class=\"dataframe\">\n",
       "  <thead>\n",
       "    <tr style=\"text-align: right;\">\n",
       "      <th></th>\n",
       "      <th>housingMedianAge</th>\n",
       "      <th>totalRooms</th>\n",
       "      <th>totalBedrooms</th>\n",
       "      <th>population</th>\n",
       "      <th>households</th>\n",
       "      <th>medianIncome</th>\n",
       "    </tr>\n",
       "  </thead>\n",
       "  <tbody>\n",
       "    <tr>\n",
       "      <th>6761</th>\n",
       "      <td>0.352941</td>\n",
       "      <td>0.069688</td>\n",
       "      <td>0.117163</td>\n",
       "      <td>0.048769</td>\n",
       "      <td>0.115442</td>\n",
       "      <td>0.142508</td>\n",
       "    </tr>\n",
       "    <tr>\n",
       "      <th>3010</th>\n",
       "      <td>0.607843</td>\n",
       "      <td>0.011242</td>\n",
       "      <td>0.015673</td>\n",
       "      <td>0.008367</td>\n",
       "      <td>0.014142</td>\n",
       "      <td>0.045027</td>\n",
       "    </tr>\n",
       "    <tr>\n",
       "      <th>7812</th>\n",
       "      <td>0.666667</td>\n",
       "      <td>0.025230</td>\n",
       "      <td>0.031347</td>\n",
       "      <td>0.020971</td>\n",
       "      <td>0.030258</td>\n",
       "      <td>0.212866</td>\n",
       "    </tr>\n",
       "    <tr>\n",
       "      <th>8480</th>\n",
       "      <td>0.666667</td>\n",
       "      <td>0.032530</td>\n",
       "      <td>0.033830</td>\n",
       "      <td>0.024752</td>\n",
       "      <td>0.030094</td>\n",
       "      <td>0.298651</td>\n",
       "    </tr>\n",
       "    <tr>\n",
       "      <th>1051</th>\n",
       "      <td>0.294118</td>\n",
       "      <td>0.031919</td>\n",
       "      <td>0.035692</td>\n",
       "      <td>0.019466</td>\n",
       "      <td>0.034863</td>\n",
       "      <td>0.272631</td>\n",
       "    </tr>\n",
       "  </tbody>\n",
       "</table>\n",
       "</div>"
      ],
      "text/plain": [
       "      housingMedianAge  totalRooms  totalBedrooms  population  households  \\\n",
       "6761          0.352941    0.069688       0.117163    0.048769    0.115442   \n",
       "3010          0.607843    0.011242       0.015673    0.008367    0.014142   \n",
       "7812          0.666667    0.025230       0.031347    0.020971    0.030258   \n",
       "8480          0.666667    0.032530       0.033830    0.024752    0.030094   \n",
       "1051          0.294118    0.031919       0.035692    0.019466    0.034863   \n",
       "\n",
       "      medianIncome  \n",
       "6761      0.142508  \n",
       "3010      0.045027  \n",
       "7812      0.212866  \n",
       "8480      0.298651  \n",
       "1051      0.272631  "
      ]
     },
     "execution_count": 14,
     "metadata": {},
     "output_type": "execute_result"
    }
   ],
   "source": [
    "scaled_X_train_df.head()"
   ]
  },
  {
   "cell_type": "code",
   "execution_count": 15,
   "metadata": {},
   "outputs": [],
   "source": [
    "scaled_X_test = scaler.transform(X_test)\n",
    "scaled_X_test_df = pd.DataFrame(scaled_X_test, columns=X_test.columns, index=X_test.index)"
   ]
  },
  {
   "cell_type": "code",
   "execution_count": 16,
   "metadata": {},
   "outputs": [
    {
     "data": {
      "text/html": [
       "<div>\n",
       "<style scoped>\n",
       "    .dataframe tbody tr th:only-of-type {\n",
       "        vertical-align: middle;\n",
       "    }\n",
       "\n",
       "    .dataframe tbody tr th {\n",
       "        vertical-align: top;\n",
       "    }\n",
       "\n",
       "    .dataframe thead th {\n",
       "        text-align: right;\n",
       "    }\n",
       "</style>\n",
       "<table border=\"1\" class=\"dataframe\">\n",
       "  <thead>\n",
       "    <tr style=\"text-align: right;\">\n",
       "      <th></th>\n",
       "      <th>housingMedianAge</th>\n",
       "      <th>totalRooms</th>\n",
       "      <th>totalBedrooms</th>\n",
       "      <th>population</th>\n",
       "      <th>households</th>\n",
       "      <th>medianIncome</th>\n",
       "    </tr>\n",
       "  </thead>\n",
       "  <tbody>\n",
       "    <tr>\n",
       "      <th>16086</th>\n",
       "      <td>0.686275</td>\n",
       "      <td>0.046264</td>\n",
       "      <td>0.045158</td>\n",
       "      <td>0.025873</td>\n",
       "      <td>0.048841</td>\n",
       "      <td>0.353133</td>\n",
       "    </tr>\n",
       "    <tr>\n",
       "      <th>8816</th>\n",
       "      <td>0.705882</td>\n",
       "      <td>0.027417</td>\n",
       "      <td>0.020795</td>\n",
       "      <td>0.012709</td>\n",
       "      <td>0.023187</td>\n",
       "      <td>0.770182</td>\n",
       "    </tr>\n",
       "    <tr>\n",
       "      <th>7175</th>\n",
       "      <td>0.901961</td>\n",
       "      <td>0.032326</td>\n",
       "      <td>0.040813</td>\n",
       "      <td>0.041662</td>\n",
       "      <td>0.042592</td>\n",
       "      <td>0.133626</td>\n",
       "    </tr>\n",
       "    <tr>\n",
       "      <th>16714</th>\n",
       "      <td>0.313725</td>\n",
       "      <td>0.043212</td>\n",
       "      <td>0.046089</td>\n",
       "      <td>0.032840</td>\n",
       "      <td>0.048018</td>\n",
       "      <td>0.263576</td>\n",
       "    </tr>\n",
       "    <tr>\n",
       "      <th>14491</th>\n",
       "      <td>0.411765</td>\n",
       "      <td>0.088433</td>\n",
       "      <td>0.069367</td>\n",
       "      <td>0.043728</td>\n",
       "      <td>0.072192</td>\n",
       "      <td>0.660046</td>\n",
       "    </tr>\n",
       "  </tbody>\n",
       "</table>\n",
       "</div>"
      ],
      "text/plain": [
       "       housingMedianAge  totalRooms  totalBedrooms  population  households  \\\n",
       "16086          0.686275    0.046264       0.045158    0.025873    0.048841   \n",
       "8816           0.705882    0.027417       0.020795    0.012709    0.023187   \n",
       "7175           0.901961    0.032326       0.040813    0.041662    0.042592   \n",
       "16714          0.313725    0.043212       0.046089    0.032840    0.048018   \n",
       "14491          0.411765    0.088433       0.069367    0.043728    0.072192   \n",
       "\n",
       "       medianIncome  \n",
       "16086      0.353133  \n",
       "8816       0.770182  \n",
       "7175       0.133626  \n",
       "16714      0.263576  \n",
       "14491      0.660046  "
      ]
     },
     "execution_count": 16,
     "metadata": {},
     "output_type": "execute_result"
    }
   ],
   "source": [
    "scaled_X_test_df.head()"
   ]
  },
  {
   "cell_type": "markdown",
   "metadata": {},
   "source": [
    "## Training the model"
   ]
  },
  {
   "cell_type": "markdown",
   "metadata": {},
   "source": [
    "### Creating Feature Columns"
   ]
  },
  {
   "cell_type": "code",
   "execution_count": 17,
   "metadata": {},
   "outputs": [
    {
     "data": {
      "text/plain": [
       "Index(['housingMedianAge', 'totalRooms', 'totalBedrooms', 'population',\n",
       "       'households', 'medianIncome', 'medianHouseValue'],\n",
       "      dtype='object')"
      ]
     },
     "execution_count": 17,
     "metadata": {},
     "output_type": "execute_result"
    }
   ],
   "source": [
    "cal_housing_data.columns"
   ]
  },
  {
   "cell_type": "code",
   "execution_count": 18,
   "metadata": {},
   "outputs": [],
   "source": [
    "feat_cols = {}\n",
    "for col in scaled_X_train_df.columns:\n",
    "    feat_cols[col] = tf.feature_column.numeric_column(col)"
   ]
  },
  {
   "cell_type": "markdown",
   "metadata": {},
   "source": [
    "### Creating Input Function\n",
    "\n",
    "**Create the input function for the estimator object.**"
   ]
  },
  {
   "cell_type": "code",
   "execution_count": 19,
   "metadata": {},
   "outputs": [
    {
     "name": "stdout",
     "output_type": "stream",
     "text": [
      "WARNING:tensorflow:From C:\\Users\\niks8\\AppData\\Local\\Programs\\Python\\Python39\\lib\\site-packages\\tensorflow\\python\\util\\lazy_loader.py:63: The name tf.estimator.inputs is deprecated. Please use tf.compat.v1.estimator.inputs instead.\n",
      "\n",
      "WARNING:tensorflow:From C:\\Users\\niks8\\AppData\\Local\\Temp/ipykernel_27908/656000037.py:1: The name tf.estimator.inputs.pandas_input_fn is deprecated. Please use tf.compat.v1.estimator.inputs.pandas_input_fn instead.\n",
      "\n"
     ]
    }
   ],
   "source": [
    "train_input_func = tf.estimator.inputs.pandas_input_fn(x=scaled_X_train_df, y=y_train, batch_size=10, num_epochs=1000, shuffle=True)"
   ]
  },
  {
   "cell_type": "markdown",
   "metadata": {},
   "source": [
    "### Creating the Estimator Model\n",
    "\n",
    "**Creating the estimator model, using the DNNRegressor.**"
   ]
  },
  {
   "cell_type": "code",
   "execution_count": 20,
   "metadata": {},
   "outputs": [
    {
     "name": "stdout",
     "output_type": "stream",
     "text": [
      "INFO:tensorflow:Using default config.\n",
      "WARNING:tensorflow:Using temporary folder as model directory: C:\\Users\\niks8\\AppData\\Local\\Temp\\tmpge217w4s\n",
      "INFO:tensorflow:Using config: {'_model_dir': 'C:\\\\Users\\\\niks8\\\\AppData\\\\Local\\\\Temp\\\\tmpge217w4s', '_tf_random_seed': None, '_save_summary_steps': 100, '_save_checkpoints_steps': None, '_save_checkpoints_secs': 600, '_session_config': allow_soft_placement: true\n",
      "graph_options {\n",
      "  rewrite_options {\n",
      "    meta_optimizer_iterations: ONE\n",
      "  }\n",
      "}\n",
      ", '_keep_checkpoint_max': 5, '_keep_checkpoint_every_n_hours': 10000, '_log_step_count_steps': 100, '_train_distribute': None, '_device_fn': None, '_protocol': None, '_eval_distribute': None, '_experimental_distribute': None, '_experimental_max_worker_delay_secs': None, '_session_creation_timeout_secs': 7200, '_checkpoint_save_graph_def': True, '_service': None, '_cluster_spec': ClusterSpec({}), '_task_type': 'worker', '_task_id': 0, '_global_id_in_cluster': 0, '_master': '', '_evaluation_master': '', '_is_chief': True, '_num_ps_replicas': 0, '_num_worker_replicas': 1}\n"
     ]
    }
   ],
   "source": [
    "regressor_model = tf.estimator.DNNRegressor([6, 6, 6], feature_columns=feat_cols.values())"
   ]
  },
  {
   "cell_type": "markdown",
   "metadata": {},
   "source": [
    "### Running the Training Simulation\n",
    "\n",
    "**Training the model.**"
   ]
  },
  {
   "cell_type": "code",
   "execution_count": 21,
   "metadata": {
    "scrolled": true
   },
   "outputs": [
    {
     "name": "stdout",
     "output_type": "stream",
     "text": [
      "WARNING:tensorflow:From C:\\Users\\niks8\\AppData\\Local\\Programs\\Python\\Python39\\lib\\site-packages\\tensorflow\\python\\training\\training_util.py:400: Variable.initialized_value (from tensorflow.python.ops.variables) is deprecated and will be removed in a future version.\n",
      "Instructions for updating:\n",
      "Use Variable.read_value. Variables in 2.X are initialized automatically both in eager and graph (inside tf.defun) contexts.\n",
      "WARNING:tensorflow:From C:\\Users\\niks8\\AppData\\Local\\Programs\\Python\\Python39\\lib\\site-packages\\tensorflow_estimator\\python\\estimator\\inputs\\queues\\feeding_queue_runner.py:60: QueueRunner.__init__ (from tensorflow.python.training.queue_runner_impl) is deprecated and will be removed in a future version.\n",
      "Instructions for updating:\n",
      "To construct input pipelines, use the `tf.data` module.\n",
      "WARNING:tensorflow:From C:\\Users\\niks8\\AppData\\Local\\Programs\\Python\\Python39\\lib\\site-packages\\tensorflow_estimator\\python\\estimator\\inputs\\queues\\feeding_functions.py:491: add_queue_runner (from tensorflow.python.training.queue_runner_impl) is deprecated and will be removed in a future version.\n",
      "Instructions for updating:\n",
      "To construct input pipelines, use the `tf.data` module.\n",
      "INFO:tensorflow:Calling model_fn.\n",
      "WARNING:tensorflow:From C:\\Users\\niks8\\AppData\\Local\\Programs\\Python\\Python39\\lib\\site-packages\\tensorflow\\python\\training\\adagrad.py:142: calling Constant.__init__ (from tensorflow.python.ops.init_ops) with dtype is deprecated and will be removed in a future version.\n",
      "Instructions for updating:\n",
      "Call initializer instance with the dtype argument instead of passing it to the constructor\n",
      "INFO:tensorflow:Done calling model_fn.\n",
      "INFO:tensorflow:Create CheckpointSaverHook.\n",
      "INFO:tensorflow:Graph was finalized.\n",
      "INFO:tensorflow:Running local_init_op.\n",
      "INFO:tensorflow:Done running local_init_op.\n",
      "WARNING:tensorflow:From C:\\Users\\niks8\\AppData\\Local\\Programs\\Python\\Python39\\lib\\site-packages\\tensorflow\\python\\training\\monitored_session.py:918: start_queue_runners (from tensorflow.python.training.queue_runner_impl) is deprecated and will be removed in a future version.\n",
      "Instructions for updating:\n",
      "To construct input pipelines, use the `tf.data` module.\n",
      "INFO:tensorflow:Calling checkpoint listeners before saving checkpoint 0...\n",
      "INFO:tensorflow:Saving checkpoints for 0 into C:\\Users\\niks8\\AppData\\Local\\Temp\\tmpge217w4s\\model.ckpt.\n",
      "INFO:tensorflow:Calling checkpoint listeners after saving checkpoint 0...\n",
      "INFO:tensorflow:loss = 416091050000.0, step = 0\n",
      "INFO:tensorflow:global_step/sec: 247.694\n",
      "INFO:tensorflow:loss = 269658500000.0, step = 100 (0.413 sec)\n",
      "INFO:tensorflow:global_step/sec: 301.825\n",
      "INFO:tensorflow:loss = 772196660000.0, step = 200 (0.335 sec)\n",
      "INFO:tensorflow:global_step/sec: 292.258\n",
      "INFO:tensorflow:loss = 575810040000.0, step = 300 (0.337 sec)\n",
      "INFO:tensorflow:global_step/sec: 305.196\n",
      "INFO:tensorflow:loss = 443450600000.0, step = 400 (0.327 sec)\n",
      "INFO:tensorflow:global_step/sec: 304.233\n",
      "INFO:tensorflow:loss = 511494780000.0, step = 500 (0.330 sec)\n",
      "INFO:tensorflow:global_step/sec: 286.185\n",
      "INFO:tensorflow:loss = 337872600000.0, step = 600 (0.348 sec)\n",
      "INFO:tensorflow:global_step/sec: 310.488\n",
      "INFO:tensorflow:loss = 576015960000.0, step = 700 (0.323 sec)\n",
      "INFO:tensorflow:global_step/sec: 286.25\n",
      "INFO:tensorflow:loss = 560745150000.0, step = 800 (0.341 sec)\n",
      "INFO:tensorflow:global_step/sec: 345.688\n",
      "INFO:tensorflow:loss = 426512060000.0, step = 900 (0.300 sec)\n",
      "INFO:tensorflow:global_step/sec: 341.254\n",
      "INFO:tensorflow:loss = 558010600000.0, step = 1000 (0.293 sec)\n",
      "INFO:tensorflow:global_step/sec: 287.582\n",
      "INFO:tensorflow:loss = 314835930000.0, step = 1100 (0.337 sec)\n",
      "INFO:tensorflow:global_step/sec: 311.574\n",
      "INFO:tensorflow:loss = 367286800000.0, step = 1200 (0.339 sec)\n",
      "INFO:tensorflow:global_step/sec: 295.477\n",
      "INFO:tensorflow:loss = 253914020000.0, step = 1300 (0.330 sec)\n",
      "INFO:tensorflow:global_step/sec: 294.025\n",
      "INFO:tensorflow:loss = 76561530000.0, step = 1400 (0.340 sec)\n",
      "INFO:tensorflow:global_step/sec: 294.861\n",
      "INFO:tensorflow:loss = 122404730000.0, step = 1500 (0.329 sec)\n",
      "INFO:tensorflow:global_step/sec: 292.641\n",
      "INFO:tensorflow:loss = 180122780000.0, step = 1600 (0.350 sec)\n",
      "INFO:tensorflow:global_step/sec: 299.844\n",
      "INFO:tensorflow:loss = 206861730000.0, step = 1700 (0.331 sec)\n",
      "INFO:tensorflow:global_step/sec: 323.43\n",
      "INFO:tensorflow:loss = 239575090000.0, step = 1800 (0.312 sec)\n",
      "INFO:tensorflow:global_step/sec: 272.963\n",
      "INFO:tensorflow:loss = 162387920000.0, step = 1900 (0.358 sec)\n",
      "INFO:tensorflow:global_step/sec: 303.339\n",
      "INFO:tensorflow:loss = 144944500000.0, step = 2000 (0.329 sec)\n",
      "INFO:tensorflow:global_step/sec: 285.511\n",
      "INFO:tensorflow:loss = 41635460000.0, step = 2100 (0.350 sec)\n",
      "INFO:tensorflow:global_step/sec: 312.357\n",
      "INFO:tensorflow:loss = 129108020000.0, step = 2200 (0.326 sec)\n",
      "INFO:tensorflow:global_step/sec: 311.564\n",
      "INFO:tensorflow:loss = 90446774000.0, step = 2300 (0.324 sec)\n",
      "INFO:tensorflow:global_step/sec: 284.507\n",
      "INFO:tensorflow:loss = 132326070000.0, step = 2400 (0.350 sec)\n",
      "INFO:tensorflow:global_step/sec: 291.702\n",
      "INFO:tensorflow:loss = 28982852000.0, step = 2500 (0.352 sec)\n",
      "INFO:tensorflow:global_step/sec: 308.025\n",
      "INFO:tensorflow:loss = 55404440000.0, step = 2600 (0.320 sec)\n",
      "INFO:tensorflow:global_step/sec: 312.586\n",
      "INFO:tensorflow:loss = 57094680000.0, step = 2700 (0.314 sec)\n",
      "INFO:tensorflow:global_step/sec: 316.746\n",
      "INFO:tensorflow:loss = 166102070000.0, step = 2800 (0.320 sec)\n",
      "INFO:tensorflow:global_step/sec: 317.848\n",
      "INFO:tensorflow:loss = 74197070000.0, step = 2900 (0.314 sec)\n",
      "INFO:tensorflow:global_step/sec: 322.725\n",
      "INFO:tensorflow:loss = 55435583000.0, step = 3000 (0.311 sec)\n",
      "INFO:tensorflow:global_step/sec: 312.923\n",
      "INFO:tensorflow:loss = 98337970000.0, step = 3100 (0.319 sec)\n",
      "INFO:tensorflow:global_step/sec: 321.61\n",
      "INFO:tensorflow:loss = 77229310000.0, step = 3200 (0.310 sec)\n",
      "INFO:tensorflow:global_step/sec: 323.052\n",
      "INFO:tensorflow:loss = 64735750000.0, step = 3300 (0.310 sec)\n",
      "INFO:tensorflow:global_step/sec: 322.663\n",
      "INFO:tensorflow:loss = 206548060000.0, step = 3400 (0.300 sec)\n",
      "INFO:tensorflow:global_step/sec: 290.919\n",
      "INFO:tensorflow:loss = 96545600000.0, step = 3500 (0.350 sec)\n",
      "INFO:tensorflow:global_step/sec: 316.215\n",
      "INFO:tensorflow:loss = 47608316000.0, step = 3600 (0.310 sec)\n",
      "INFO:tensorflow:global_step/sec: 321.858\n",
      "INFO:tensorflow:loss = 76671910000.0, step = 3700 (0.319 sec)\n",
      "INFO:tensorflow:global_step/sec: 312.949\n",
      "INFO:tensorflow:loss = 65854124000.0, step = 3800 (0.328 sec)\n",
      "INFO:tensorflow:global_step/sec: 319.793\n",
      "INFO:tensorflow:loss = 134477830000.0, step = 3900 (0.308 sec)\n",
      "INFO:tensorflow:global_step/sec: 305.973\n",
      "INFO:tensorflow:loss = 21803840000.0, step = 4000 (0.326 sec)\n",
      "INFO:tensorflow:global_step/sec: 322.36\n",
      "INFO:tensorflow:loss = 49168890000.0, step = 4100 (0.309 sec)\n",
      "INFO:tensorflow:global_step/sec: 303.099\n",
      "INFO:tensorflow:loss = 157093530000.0, step = 4200 (0.330 sec)\n",
      "INFO:tensorflow:global_step/sec: 312.858\n",
      "INFO:tensorflow:loss = 134777560000.0, step = 4300 (0.320 sec)\n",
      "INFO:tensorflow:global_step/sec: 293.258\n",
      "INFO:tensorflow:loss = 39567004000.0, step = 4400 (0.339 sec)\n",
      "INFO:tensorflow:global_step/sec: 313.438\n",
      "INFO:tensorflow:loss = 96631865000.0, step = 4500 (0.310 sec)\n",
      "INFO:tensorflow:global_step/sec: 332.9\n",
      "INFO:tensorflow:loss = 75410570000.0, step = 4600 (0.310 sec)\n",
      "INFO:tensorflow:global_step/sec: 312.772\n",
      "INFO:tensorflow:loss = 27769692000.0, step = 4700 (0.320 sec)\n",
      "INFO:tensorflow:global_step/sec: 302.921\n",
      "INFO:tensorflow:loss = 138233900000.0, step = 4800 (0.320 sec)\n",
      "INFO:tensorflow:global_step/sec: 330.381\n",
      "INFO:tensorflow:loss = 42174235000.0, step = 4900 (0.310 sec)\n",
      "INFO:tensorflow:global_step/sec: 296.421\n",
      "INFO:tensorflow:loss = 167064780000.0, step = 5000 (0.330 sec)\n",
      "INFO:tensorflow:global_step/sec: 301.814\n",
      "INFO:tensorflow:loss = 110884230000.0, step = 5100 (0.339 sec)\n",
      "INFO:tensorflow:global_step/sec: 324.967\n",
      "INFO:tensorflow:loss = 109163490000.0, step = 5200 (0.311 sec)\n",
      "INFO:tensorflow:global_step/sec: 321.3\n",
      "INFO:tensorflow:loss = 64329646000.0, step = 5300 (0.309 sec)\n",
      "INFO:tensorflow:global_step/sec: 323.247\n",
      "INFO:tensorflow:loss = 128833900000.0, step = 5400 (0.300 sec)\n",
      "INFO:tensorflow:global_step/sec: 329.361\n",
      "INFO:tensorflow:loss = 67185435000.0, step = 5500 (0.310 sec)\n",
      "INFO:tensorflow:global_step/sec: 309.138\n",
      "INFO:tensorflow:loss = 123316080000.0, step = 5600 (0.325 sec)\n"
     ]
    },
    {
     "name": "stdout",
     "output_type": "stream",
     "text": [
      "INFO:tensorflow:global_step/sec: 306.714\n",
      "INFO:tensorflow:loss = 58222350000.0, step = 5700 (0.318 sec)\n",
      "INFO:tensorflow:global_step/sec: 336.655\n",
      "INFO:tensorflow:loss = 50018566000.0, step = 5800 (0.307 sec)\n",
      "INFO:tensorflow:global_step/sec: 312.262\n",
      "INFO:tensorflow:loss = 91043610000.0, step = 5900 (0.329 sec)\n",
      "INFO:tensorflow:global_step/sec: 256.629\n",
      "INFO:tensorflow:loss = 123272280000.0, step = 6000 (0.376 sec)\n",
      "INFO:tensorflow:global_step/sec: 284.544\n",
      "INFO:tensorflow:loss = 105223740000.0, step = 6100 (0.357 sec)\n",
      "INFO:tensorflow:global_step/sec: 286.681\n",
      "INFO:tensorflow:loss = 67487486000.0, step = 6200 (0.338 sec)\n",
      "INFO:tensorflow:global_step/sec: 236.617\n",
      "INFO:tensorflow:loss = 155310180000.0, step = 6300 (0.423 sec)\n",
      "INFO:tensorflow:global_step/sec: 256.29\n",
      "INFO:tensorflow:loss = 102417600000.0, step = 6400 (0.404 sec)\n",
      "INFO:tensorflow:global_step/sec: 275.277\n",
      "INFO:tensorflow:loss = 110649990000.0, step = 6500 (0.356 sec)\n",
      "INFO:tensorflow:global_step/sec: 299.571\n",
      "INFO:tensorflow:loss = 158164030000.0, step = 6600 (0.342 sec)\n",
      "INFO:tensorflow:global_step/sec: 297.443\n",
      "INFO:tensorflow:loss = 63207920000.0, step = 6700 (0.327 sec)\n",
      "INFO:tensorflow:global_step/sec: 260.701\n",
      "INFO:tensorflow:loss = 49814585000.0, step = 6800 (0.389 sec)\n",
      "INFO:tensorflow:global_step/sec: 302.36\n",
      "INFO:tensorflow:loss = 62972960000.0, step = 6900 (0.329 sec)\n",
      "INFO:tensorflow:global_step/sec: 303.707\n",
      "INFO:tensorflow:loss = 93140220000.0, step = 7000 (0.321 sec)\n",
      "INFO:tensorflow:global_step/sec: 312.078\n",
      "INFO:tensorflow:loss = 165930300000.0, step = 7100 (0.325 sec)\n",
      "INFO:tensorflow:global_step/sec: 331.39\n",
      "INFO:tensorflow:loss = 89073560000.0, step = 7200 (0.307 sec)\n",
      "INFO:tensorflow:global_step/sec: 313.531\n",
      "INFO:tensorflow:loss = 103642464000.0, step = 7300 (0.314 sec)\n",
      "INFO:tensorflow:global_step/sec: 304.066\n",
      "INFO:tensorflow:loss = 29512677000.0, step = 7400 (0.334 sec)\n",
      "INFO:tensorflow:global_step/sec: 320.396\n",
      "INFO:tensorflow:loss = 124408640000.0, step = 7500 (0.309 sec)\n",
      "INFO:tensorflow:global_step/sec: 324.421\n",
      "INFO:tensorflow:loss = 125017450000.0, step = 7600 (0.300 sec)\n",
      "INFO:tensorflow:global_step/sec: 333.494\n",
      "INFO:tensorflow:loss = 125919805000.0, step = 7700 (0.310 sec)\n",
      "INFO:tensorflow:global_step/sec: 312.38\n",
      "INFO:tensorflow:loss = 75092480000.0, step = 7800 (0.310 sec)\n",
      "INFO:tensorflow:global_step/sec: 322.21\n",
      "INFO:tensorflow:loss = 79244575000.0, step = 7900 (0.310 sec)\n",
      "INFO:tensorflow:global_step/sec: 290.116\n",
      "INFO:tensorflow:loss = 160921270000.0, step = 8000 (0.345 sec)\n",
      "INFO:tensorflow:global_step/sec: 307.949\n",
      "INFO:tensorflow:loss = 92072090000.0, step = 8100 (0.327 sec)\n",
      "INFO:tensorflow:global_step/sec: 308.373\n",
      "INFO:tensorflow:loss = 71183410000.0, step = 8200 (0.322 sec)\n",
      "INFO:tensorflow:global_step/sec: 326.84\n",
      "INFO:tensorflow:loss = 84436580000.0, step = 8300 (0.311 sec)\n",
      "INFO:tensorflow:global_step/sec: 332.758\n",
      "INFO:tensorflow:loss = 91972350000.0, step = 8400 (0.296 sec)\n",
      "INFO:tensorflow:global_step/sec: 312.506\n",
      "INFO:tensorflow:loss = 68554043000.0, step = 8500 (0.320 sec)\n",
      "INFO:tensorflow:global_step/sec: 303.451\n",
      "INFO:tensorflow:loss = 173893800000.0, step = 8600 (0.330 sec)\n",
      "INFO:tensorflow:global_step/sec: 330.993\n",
      "INFO:tensorflow:loss = 119586054000.0, step = 8700 (0.320 sec)\n",
      "INFO:tensorflow:global_step/sec: 296.082\n",
      "INFO:tensorflow:loss = 82256400000.0, step = 8800 (0.320 sec)\n",
      "INFO:tensorflow:global_step/sec: 332.092\n",
      "INFO:tensorflow:loss = 54943842000.0, step = 8900 (0.301 sec)\n",
      "INFO:tensorflow:global_step/sec: 323.659\n",
      "INFO:tensorflow:loss = 125357375000.0, step = 9000 (0.321 sec)\n",
      "INFO:tensorflow:global_step/sec: 333.431\n",
      "INFO:tensorflow:loss = 117253520000.0, step = 9100 (0.300 sec)\n",
      "INFO:tensorflow:global_step/sec: 322.149\n",
      "INFO:tensorflow:loss = 74045140000.0, step = 9200 (0.308 sec)\n",
      "INFO:tensorflow:global_step/sec: 323.007\n",
      "INFO:tensorflow:loss = 75883590000.0, step = 9300 (0.311 sec)\n",
      "INFO:tensorflow:global_step/sec: 303.229\n",
      "INFO:tensorflow:loss = 232619100000.0, step = 9400 (0.325 sec)\n",
      "INFO:tensorflow:global_step/sec: 342.788\n",
      "INFO:tensorflow:loss = 57421554000.0, step = 9500 (0.294 sec)\n",
      "INFO:tensorflow:global_step/sec: 313.51\n",
      "INFO:tensorflow:loss = 55566447000.0, step = 9600 (0.320 sec)\n",
      "INFO:tensorflow:global_step/sec: 313.129\n",
      "INFO:tensorflow:loss = 147081900000.0, step = 9700 (0.320 sec)\n",
      "INFO:tensorflow:global_step/sec: 322.515\n",
      "INFO:tensorflow:loss = 122629240000.0, step = 9800 (0.300 sec)\n",
      "INFO:tensorflow:global_step/sec: 321.081\n",
      "INFO:tensorflow:loss = 79358240000.0, step = 9900 (0.320 sec)\n",
      "INFO:tensorflow:global_step/sec: 305.451\n",
      "INFO:tensorflow:loss = 81969490000.0, step = 10000 (0.325 sec)\n",
      "INFO:tensorflow:global_step/sec: 331.643\n",
      "INFO:tensorflow:loss = 296606140000.0, step = 10100 (0.295 sec)\n",
      "INFO:tensorflow:global_step/sec: 333.543\n",
      "INFO:tensorflow:loss = 197700320000.0, step = 10200 (0.310 sec)\n",
      "INFO:tensorflow:global_step/sec: 319.062\n",
      "INFO:tensorflow:loss = 95821240000.0, step = 10300 (0.310 sec)\n",
      "INFO:tensorflow:global_step/sec: 325.935\n",
      "INFO:tensorflow:loss = 162836170000.0, step = 10400 (0.310 sec)\n",
      "INFO:tensorflow:global_step/sec: 333.941\n",
      "INFO:tensorflow:loss = 49958560000.0, step = 10500 (0.300 sec)\n",
      "INFO:tensorflow:global_step/sec: 314.783\n",
      "INFO:tensorflow:loss = 142634600000.0, step = 10600 (0.319 sec)\n",
      "INFO:tensorflow:global_step/sec: 307.947\n",
      "INFO:tensorflow:loss = 109793020000.0, step = 10700 (0.320 sec)\n",
      "INFO:tensorflow:global_step/sec: 335.753\n",
      "INFO:tensorflow:loss = 85241810000.0, step = 10800 (0.301 sec)\n",
      "INFO:tensorflow:global_step/sec: 344.72\n",
      "INFO:tensorflow:loss = 213730790000.0, step = 10900 (0.298 sec)\n",
      "INFO:tensorflow:global_step/sec: 322.318\n",
      "INFO:tensorflow:loss = 14290859000.0, step = 11000 (0.300 sec)\n",
      "INFO:tensorflow:global_step/sec: 322.713\n",
      "INFO:tensorflow:loss = 75007900000.0, step = 11100 (0.310 sec)\n",
      "INFO:tensorflow:global_step/sec: 339.404\n",
      "INFO:tensorflow:loss = 137307060000.0, step = 11200 (0.289 sec)\n",
      "INFO:tensorflow:global_step/sec: 307.52\n",
      "INFO:tensorflow:loss = 166914080000.0, step = 11300 (0.322 sec)\n",
      "INFO:tensorflow:global_step/sec: 320.277\n",
      "INFO:tensorflow:loss = 55625380000.0, step = 11400 (0.323 sec)\n",
      "INFO:tensorflow:global_step/sec: 330.4\n",
      "INFO:tensorflow:loss = 157139500000.0, step = 11500 (0.295 sec)\n",
      "INFO:tensorflow:global_step/sec: 306.713\n",
      "INFO:tensorflow:loss = 177286170000.0, step = 11600 (0.330 sec)\n",
      "INFO:tensorflow:global_step/sec: 321.966\n",
      "INFO:tensorflow:loss = 100355130000.0, step = 11700 (0.310 sec)\n",
      "INFO:tensorflow:global_step/sec: 335.161\n",
      "INFO:tensorflow:loss = 89804680000.0, step = 11800 (0.303 sec)\n",
      "INFO:tensorflow:global_step/sec: 322.572\n",
      "INFO:tensorflow:loss = 83046120000.0, step = 11900 (0.307 sec)\n",
      "INFO:tensorflow:global_step/sec: 322.548\n",
      "INFO:tensorflow:loss = 154031080000.0, step = 12000 (0.310 sec)\n",
      "INFO:tensorflow:global_step/sec: 333.13\n",
      "INFO:tensorflow:loss = 57348300000.0, step = 12100 (0.305 sec)\n",
      "INFO:tensorflow:global_step/sec: 329.672\n",
      "INFO:tensorflow:loss = 220693330000.0, step = 12200 (0.295 sec)\n",
      "INFO:tensorflow:global_step/sec: 326.31\n",
      "INFO:tensorflow:loss = 172118520000.0, step = 12300 (0.310 sec)\n",
      "INFO:tensorflow:global_step/sec: 329.892\n",
      "INFO:tensorflow:loss = 118587020000.0, step = 12400 (0.301 sec)\n",
      "INFO:tensorflow:global_step/sec: 348.07\n",
      "INFO:tensorflow:loss = 157501830000.0, step = 12500 (0.295 sec)\n",
      "INFO:tensorflow:global_step/sec: 309.27\n",
      "INFO:tensorflow:loss = 62196660000.0, step = 12600 (0.320 sec)\n",
      "INFO:tensorflow:global_step/sec: 326.376\n",
      "INFO:tensorflow:loss = 127696640000.0, step = 12700 (0.294 sec)\n",
      "INFO:tensorflow:global_step/sec: 333.381\n",
      "INFO:tensorflow:loss = 125010940000.0, step = 12800 (0.300 sec)\n",
      "INFO:tensorflow:global_step/sec: 343.358\n",
      "INFO:tensorflow:loss = 136439520000.0, step = 12900 (0.300 sec)\n",
      "INFO:tensorflow:global_step/sec: 330.736\n",
      "INFO:tensorflow:loss = 69597364000.0, step = 13000 (0.300 sec)\n",
      "INFO:tensorflow:global_step/sec: 326.046\n",
      "INFO:tensorflow:loss = 158510320000.0, step = 13100 (0.310 sec)\n",
      "INFO:tensorflow:global_step/sec: 312.814\n",
      "INFO:tensorflow:loss = 88546480000.0, step = 13200 (0.310 sec)\n",
      "INFO:tensorflow:global_step/sec: 343.093\n",
      "INFO:tensorflow:loss = 56964276000.0, step = 13300 (0.300 sec)\n",
      "INFO:tensorflow:global_step/sec: 324.104\n",
      "INFO:tensorflow:loss = 51447990000.0, step = 13400 (0.306 sec)\n",
      "INFO:tensorflow:global_step/sec: 322.331\n",
      "INFO:tensorflow:loss = 107800720000.0, step = 13500 (0.304 sec)\n"
     ]
    },
    {
     "name": "stdout",
     "output_type": "stream",
     "text": [
      "INFO:tensorflow:global_step/sec: 312.489\n",
      "INFO:tensorflow:loss = 72377260000.0, step = 13600 (0.324 sec)\n",
      "INFO:tensorflow:global_step/sec: 357.53\n",
      "INFO:tensorflow:loss = 49766433000.0, step = 13700 (0.286 sec)\n",
      "INFO:tensorflow:global_step/sec: 333.312\n",
      "INFO:tensorflow:loss = 45937836000.0, step = 13800 (0.300 sec)\n",
      "INFO:tensorflow:global_step/sec: 333.445\n",
      "INFO:tensorflow:loss = 215395910000.0, step = 13900 (0.300 sec)\n",
      "INFO:tensorflow:global_step/sec: 333.281\n",
      "INFO:tensorflow:loss = 55581450000.0, step = 14000 (0.300 sec)\n",
      "INFO:tensorflow:global_step/sec: 333.071\n",
      "INFO:tensorflow:loss = 42609046000.0, step = 14100 (0.300 sec)\n",
      "INFO:tensorflow:global_step/sec: 333.265\n",
      "INFO:tensorflow:loss = 190684640000.0, step = 14200 (0.293 sec)\n",
      "INFO:tensorflow:global_step/sec: 333.608\n",
      "INFO:tensorflow:loss = 158195250000.0, step = 14300 (0.303 sec)\n",
      "INFO:tensorflow:global_step/sec: 333.136\n",
      "INFO:tensorflow:loss = 119274730000.0, step = 14400 (0.304 sec)\n",
      "INFO:tensorflow:global_step/sec: 333.3\n",
      "INFO:tensorflow:loss = 74411420000.0, step = 14500 (0.300 sec)\n",
      "INFO:tensorflow:global_step/sec: 322.717\n",
      "INFO:tensorflow:loss = 50202510000.0, step = 14600 (0.310 sec)\n",
      "INFO:tensorflow:global_step/sec: 333.259\n",
      "INFO:tensorflow:loss = 87288906000.0, step = 14700 (0.306 sec)\n",
      "INFO:tensorflow:global_step/sec: 318.746\n",
      "INFO:tensorflow:loss = 48576766000.0, step = 14800 (0.304 sec)\n",
      "INFO:tensorflow:global_step/sec: 337.485\n",
      "INFO:tensorflow:loss = 51813433000.0, step = 14900 (0.305 sec)\n",
      "INFO:tensorflow:global_step/sec: 345.198\n",
      "INFO:tensorflow:loss = 119625630000.0, step = 15000 (0.286 sec)\n",
      "INFO:tensorflow:global_step/sec: 332.901\n",
      "INFO:tensorflow:loss = 223446780000.0, step = 15100 (0.300 sec)\n",
      "INFO:tensorflow:global_step/sec: 293.135\n",
      "INFO:tensorflow:loss = 62154555000.0, step = 15200 (0.332 sec)\n",
      "INFO:tensorflow:global_step/sec: 324.119\n",
      "INFO:tensorflow:loss = 77346054000.0, step = 15300 (0.319 sec)\n",
      "INFO:tensorflow:global_step/sec: 333.038\n",
      "INFO:tensorflow:loss = 44899926000.0, step = 15400 (0.302 sec)\n",
      "WARNING:tensorflow:It seems that global step (tf.train.get_global_step) has not been increased. Current value (could be stable): 15433 vs previous value: 15433. You could increase the global step by passing tf.train.get_global_step() to Optimizer.apply_gradients or Optimizer.minimize.\n",
      "INFO:tensorflow:global_step/sec: 270.282\n",
      "INFO:tensorflow:loss = 100567245000.0, step = 15500 (0.358 sec)\n",
      "INFO:tensorflow:global_step/sec: 303.455\n",
      "INFO:tensorflow:loss = 90539410000.0, step = 15600 (0.330 sec)\n",
      "INFO:tensorflow:global_step/sec: 301.514\n",
      "INFO:tensorflow:loss = 111909990000.0, step = 15700 (0.336 sec)\n",
      "INFO:tensorflow:global_step/sec: 324.119\n",
      "INFO:tensorflow:loss = 69561960000.0, step = 15800 (0.311 sec)\n",
      "INFO:tensorflow:global_step/sec: 309.197\n",
      "INFO:tensorflow:loss = 169484880000.0, step = 15900 (0.323 sec)\n",
      "INFO:tensorflow:global_step/sec: 297.137\n",
      "INFO:tensorflow:loss = 52309550000.0, step = 16000 (0.330 sec)\n",
      "INFO:tensorflow:global_step/sec: 340.544\n",
      "INFO:tensorflow:loss = 123584610000.0, step = 16100 (0.300 sec)\n",
      "INFO:tensorflow:global_step/sec: 326.349\n",
      "INFO:tensorflow:loss = 129842750000.0, step = 16200 (0.302 sec)\n",
      "INFO:tensorflow:global_step/sec: 343.485\n",
      "INFO:tensorflow:loss = 98088436000.0, step = 16300 (0.302 sec)\n",
      "INFO:tensorflow:global_step/sec: 298.302\n",
      "INFO:tensorflow:loss = 70377830000.0, step = 16400 (0.328 sec)\n",
      "INFO:tensorflow:global_step/sec: 247.888\n",
      "INFO:tensorflow:loss = 76008150000.0, step = 16500 (0.397 sec)\n",
      "INFO:tensorflow:global_step/sec: 322.414\n",
      "INFO:tensorflow:loss = 102621840000.0, step = 16600 (0.320 sec)\n",
      "INFO:tensorflow:global_step/sec: 322.769\n",
      "INFO:tensorflow:loss = 31013677000.0, step = 16700 (0.311 sec)\n",
      "INFO:tensorflow:global_step/sec: 312.346\n",
      "INFO:tensorflow:loss = 138553620000.0, step = 16800 (0.310 sec)\n",
      "INFO:tensorflow:global_step/sec: 320.565\n",
      "INFO:tensorflow:loss = 95617720000.0, step = 16900 (0.322 sec)\n",
      "INFO:tensorflow:global_step/sec: 313.495\n",
      "INFO:tensorflow:loss = 127374100000.0, step = 17000 (0.318 sec)\n",
      "INFO:tensorflow:global_step/sec: 294.351\n",
      "INFO:tensorflow:loss = 53630902000.0, step = 17100 (0.331 sec)\n",
      "INFO:tensorflow:global_step/sec: 322.877\n",
      "INFO:tensorflow:loss = 143675600000.0, step = 17200 (0.319 sec)\n",
      "INFO:tensorflow:global_step/sec: 312.567\n",
      "INFO:tensorflow:loss = 162924450000.0, step = 17300 (0.321 sec)\n",
      "INFO:tensorflow:global_step/sec: 312.314\n",
      "INFO:tensorflow:loss = 120407780000.0, step = 17400 (0.314 sec)\n",
      "INFO:tensorflow:global_step/sec: 333.497\n",
      "INFO:tensorflow:loss = 67141380000.0, step = 17500 (0.315 sec)\n",
      "INFO:tensorflow:global_step/sec: 321.051\n",
      "INFO:tensorflow:loss = 118863856000.0, step = 17600 (0.300 sec)\n",
      "INFO:tensorflow:global_step/sec: 304.338\n",
      "INFO:tensorflow:loss = 157558110000.0, step = 17700 (0.335 sec)\n",
      "INFO:tensorflow:global_step/sec: 302.748\n",
      "INFO:tensorflow:loss = 71027440000.0, step = 17800 (0.316 sec)\n",
      "INFO:tensorflow:global_step/sec: 303.751\n",
      "INFO:tensorflow:loss = 73583650000.0, step = 17900 (0.329 sec)\n",
      "INFO:tensorflow:global_step/sec: 312.523\n",
      "INFO:tensorflow:loss = 60993250000.0, step = 18000 (0.320 sec)\n",
      "INFO:tensorflow:global_step/sec: 318.441\n",
      "INFO:tensorflow:loss = 111506970000.0, step = 18100 (0.325 sec)\n",
      "INFO:tensorflow:global_step/sec: 315.699\n",
      "INFO:tensorflow:loss = 97130270000.0, step = 18200 (0.315 sec)\n",
      "INFO:tensorflow:global_step/sec: 332.017\n",
      "INFO:tensorflow:loss = 44664857000.0, step = 18300 (0.311 sec)\n",
      "INFO:tensorflow:global_step/sec: 304.334\n",
      "INFO:tensorflow:loss = 67328560000.0, step = 18400 (0.320 sec)\n",
      "INFO:tensorflow:global_step/sec: 322.746\n",
      "INFO:tensorflow:loss = 77034504000.0, step = 18500 (0.310 sec)\n",
      "INFO:tensorflow:global_step/sec: 322.59\n",
      "INFO:tensorflow:loss = 142413700000.0, step = 18600 (0.313 sec)\n",
      "INFO:tensorflow:global_step/sec: 323.011\n",
      "INFO:tensorflow:loss = 31753908000.0, step = 18700 (0.312 sec)\n",
      "INFO:tensorflow:global_step/sec: 309.965\n",
      "INFO:tensorflow:loss = 68125880000.0, step = 18800 (0.316 sec)\n",
      "INFO:tensorflow:global_step/sec: 324.975\n",
      "INFO:tensorflow:loss = 109614140000.0, step = 18900 (0.310 sec)\n",
      "INFO:tensorflow:global_step/sec: 312.517\n",
      "INFO:tensorflow:loss = 43945902000.0, step = 19000 (0.320 sec)\n",
      "INFO:tensorflow:global_step/sec: 322.802\n",
      "INFO:tensorflow:loss = 27767546000.0, step = 19100 (0.310 sec)\n",
      "INFO:tensorflow:global_step/sec: 302.717\n",
      "INFO:tensorflow:loss = 94899100000.0, step = 19200 (0.320 sec)\n",
      "INFO:tensorflow:global_step/sec: 321.402\n",
      "INFO:tensorflow:loss = 74245956000.0, step = 19300 (0.320 sec)\n",
      "INFO:tensorflow:global_step/sec: 320.74\n",
      "INFO:tensorflow:loss = 204434740000.0, step = 19400 (0.310 sec)\n",
      "INFO:tensorflow:global_step/sec: 315.079\n",
      "INFO:tensorflow:loss = 71534530000.0, step = 19500 (0.320 sec)\n",
      "INFO:tensorflow:global_step/sec: 278.313\n",
      "INFO:tensorflow:loss = 41849774000.0, step = 19600 (0.350 sec)\n",
      "INFO:tensorflow:global_step/sec: 293.222\n",
      "INFO:tensorflow:loss = 47847150000.0, step = 19700 (0.340 sec)\n",
      "INFO:tensorflow:global_step/sec: 311.482\n",
      "INFO:tensorflow:loss = 82886880000.0, step = 19800 (0.329 sec)\n",
      "INFO:tensorflow:global_step/sec: 310.992\n",
      "INFO:tensorflow:loss = 61661463000.0, step = 19900 (0.320 sec)\n",
      "INFO:tensorflow:global_step/sec: 280.71\n",
      "INFO:tensorflow:loss = 120717100000.0, step = 20000 (0.350 sec)\n",
      "INFO:tensorflow:global_step/sec: 261.391\n",
      "INFO:tensorflow:loss = 47464950000.0, step = 20100 (0.383 sec)\n",
      "INFO:tensorflow:global_step/sec: 302.151\n",
      "INFO:tensorflow:loss = 61297746000.0, step = 20200 (0.338 sec)\n",
      "INFO:tensorflow:global_step/sec: 315.488\n",
      "INFO:tensorflow:loss = 129191300000.0, step = 20300 (0.320 sec)\n",
      "INFO:tensorflow:global_step/sec: 321.079\n",
      "INFO:tensorflow:loss = 77066625000.0, step = 20400 (0.312 sec)\n",
      "INFO:tensorflow:global_step/sec: 304.622\n",
      "INFO:tensorflow:loss = 162932750000.0, step = 20500 (0.328 sec)\n",
      "INFO:tensorflow:global_step/sec: 311.512\n",
      "INFO:tensorflow:loss = 114373240000.0, step = 20600 (0.322 sec)\n",
      "INFO:tensorflow:global_step/sec: 313.525\n",
      "INFO:tensorflow:loss = 28404689000.0, step = 20700 (0.308 sec)\n",
      "WARNING:tensorflow:It seems that global step (tf.train.get_global_step) has not been increased. Current value (could be stable): 20707 vs previous value: 20707. You could increase the global step by passing tf.train.get_global_step() to Optimizer.apply_gradients or Optimizer.minimize.\n",
      "INFO:tensorflow:global_step/sec: 322.536\n",
      "INFO:tensorflow:loss = 91567740000.0, step = 20800 (0.325 sec)\n",
      "INFO:tensorflow:global_step/sec: 322.476\n"
     ]
    },
    {
     "name": "stdout",
     "output_type": "stream",
     "text": [
      "INFO:tensorflow:loss = 100383870000.0, step = 20900 (0.305 sec)\n",
      "INFO:tensorflow:global_step/sec: 312.224\n",
      "INFO:tensorflow:loss = 197423400000.0, step = 21000 (0.322 sec)\n",
      "INFO:tensorflow:global_step/sec: 321.957\n",
      "INFO:tensorflow:loss = 114947965000.0, step = 21100 (0.304 sec)\n",
      "INFO:tensorflow:global_step/sec: 317.842\n",
      "INFO:tensorflow:loss = 47187620000.0, step = 21200 (0.314 sec)\n",
      "INFO:tensorflow:global_step/sec: 308.102\n",
      "INFO:tensorflow:loss = 84838010000.0, step = 21300 (0.320 sec)\n",
      "INFO:tensorflow:global_step/sec: 322.903\n",
      "INFO:tensorflow:loss = 200026260000.0, step = 21400 (0.310 sec)\n",
      "INFO:tensorflow:global_step/sec: 332.689\n",
      "INFO:tensorflow:loss = 115525860000.0, step = 21500 (0.310 sec)\n",
      "INFO:tensorflow:global_step/sec: 316.515\n",
      "INFO:tensorflow:loss = 113987780000.0, step = 21600 (0.312 sec)\n",
      "INFO:tensorflow:global_step/sec: 308.524\n",
      "INFO:tensorflow:loss = 78432000000.0, step = 21700 (0.329 sec)\n",
      "INFO:tensorflow:global_step/sec: 308.785\n",
      "INFO:tensorflow:loss = 28307196000.0, step = 21800 (0.319 sec)\n",
      "INFO:tensorflow:global_step/sec: 327.065\n",
      "INFO:tensorflow:loss = 62639694000.0, step = 21900 (0.310 sec)\n",
      "INFO:tensorflow:global_step/sec: 312.864\n",
      "INFO:tensorflow:loss = 52072837000.0, step = 22000 (0.320 sec)\n",
      "INFO:tensorflow:global_step/sec: 312.257\n",
      "INFO:tensorflow:loss = 54721690000.0, step = 22100 (0.320 sec)\n",
      "INFO:tensorflow:global_step/sec: 312.453\n",
      "INFO:tensorflow:loss = 41785655000.0, step = 22200 (0.321 sec)\n",
      "INFO:tensorflow:global_step/sec: 320.596\n",
      "INFO:tensorflow:loss = 80899146000.0, step = 22300 (0.312 sec)\n",
      "INFO:tensorflow:global_step/sec: 304.645\n",
      "INFO:tensorflow:loss = 119420910000.0, step = 22400 (0.318 sec)\n",
      "INFO:tensorflow:global_step/sec: 310.9\n",
      "INFO:tensorflow:loss = 150859900000.0, step = 22500 (0.322 sec)\n",
      "INFO:tensorflow:global_step/sec: 343.775\n",
      "INFO:tensorflow:loss = 133228880000.0, step = 22600 (0.304 sec)\n",
      "INFO:tensorflow:global_step/sec: 305.271\n",
      "INFO:tensorflow:loss = 98978000000.0, step = 22700 (0.324 sec)\n",
      "INFO:tensorflow:global_step/sec: 303.376\n",
      "INFO:tensorflow:loss = 122588850000.0, step = 22800 (0.330 sec)\n",
      "INFO:tensorflow:global_step/sec: 322.68\n",
      "INFO:tensorflow:loss = 92863230000.0, step = 22900 (0.307 sec)\n",
      "INFO:tensorflow:global_step/sec: 301.494\n",
      "INFO:tensorflow:loss = 44213432000.0, step = 23000 (0.325 sec)\n",
      "INFO:tensorflow:global_step/sec: 304.529\n",
      "INFO:tensorflow:loss = 100936170000.0, step = 23100 (0.328 sec)\n",
      "INFO:tensorflow:global_step/sec: 285.288\n",
      "INFO:tensorflow:loss = 68359963000.0, step = 23200 (0.354 sec)\n",
      "INFO:tensorflow:global_step/sec: 345.112\n",
      "INFO:tensorflow:loss = 89619595000.0, step = 23300 (0.300 sec)\n",
      "INFO:tensorflow:global_step/sec: 301.27\n",
      "INFO:tensorflow:loss = 99086960000.0, step = 23400 (0.327 sec)\n",
      "INFO:tensorflow:global_step/sec: 304.114\n",
      "INFO:tensorflow:loss = 58737603000.0, step = 23500 (0.321 sec)\n",
      "INFO:tensorflow:global_step/sec: 323.517\n",
      "INFO:tensorflow:loss = 208142630000.0, step = 23600 (0.310 sec)\n",
      "INFO:tensorflow:global_step/sec: 356.801\n",
      "INFO:tensorflow:loss = 139187850000.0, step = 23700 (0.290 sec)\n",
      "INFO:tensorflow:global_step/sec: 293.796\n",
      "INFO:tensorflow:loss = 66084966000.0, step = 23800 (0.331 sec)\n",
      "INFO:tensorflow:global_step/sec: 345.728\n",
      "INFO:tensorflow:loss = 111747916000.0, step = 23900 (0.302 sec)\n",
      "INFO:tensorflow:global_step/sec: 303.039\n",
      "INFO:tensorflow:loss = 191718560000.0, step = 24000 (0.323 sec)\n",
      "INFO:tensorflow:global_step/sec: 326.698\n",
      "INFO:tensorflow:loss = 81573175000.0, step = 24100 (0.309 sec)\n",
      "INFO:tensorflow:global_step/sec: 328.877\n",
      "INFO:tensorflow:loss = 71444500000.0, step = 24200 (0.305 sec)\n",
      "INFO:tensorflow:global_step/sec: 320.262\n",
      "INFO:tensorflow:loss = 40669710000.0, step = 24300 (0.312 sec)\n",
      "INFO:tensorflow:global_step/sec: 313.765\n",
      "INFO:tensorflow:loss = 121576050000.0, step = 24400 (0.309 sec)\n",
      "INFO:tensorflow:global_step/sec: 303.74\n",
      "INFO:tensorflow:loss = 54325535000.0, step = 24500 (0.329 sec)\n",
      "INFO:tensorflow:global_step/sec: 319.956\n",
      "INFO:tensorflow:loss = 89302210000.0, step = 24600 (0.320 sec)\n",
      "INFO:tensorflow:global_step/sec: 305.696\n",
      "INFO:tensorflow:loss = 62134600000.0, step = 24700 (0.320 sec)\n",
      "INFO:tensorflow:global_step/sec: 322.615\n",
      "INFO:tensorflow:loss = 32744724000.0, step = 24800 (0.324 sec)\n",
      "INFO:tensorflow:global_step/sec: 303.101\n",
      "INFO:tensorflow:loss = 116450780000.0, step = 24900 (0.316 sec)\n",
      "INFO:tensorflow:Calling checkpoint listeners before saving checkpoint 25000...\n",
      "INFO:tensorflow:Saving checkpoints for 25000 into C:\\Users\\niks8\\AppData\\Local\\Temp\\tmpge217w4s\\model.ckpt.\n",
      "INFO:tensorflow:Calling checkpoint listeners after saving checkpoint 25000...\n",
      "INFO:tensorflow:Loss for final step: 40156080000.0.\n"
     ]
    },
    {
     "data": {
      "text/plain": [
       "<tensorflow_estimator.python.estimator.canned.dnn.DNNRegressor at 0x2001e62df70>"
      ]
     },
     "execution_count": 21,
     "metadata": {},
     "output_type": "execute_result"
    }
   ],
   "source": [
    "regressor_model.train(input_fn=train_input_func, steps=25000)"
   ]
  },
  {
   "cell_type": "markdown",
   "metadata": {},
   "source": [
    "## Predictions on the model"
   ]
  },
  {
   "cell_type": "markdown",
   "metadata": {},
   "source": [
    "### Creating Prediction Input Function\n",
    "\n",
    "**Creating a prediction input function.**"
   ]
  },
  {
   "cell_type": "code",
   "execution_count": 22,
   "metadata": {},
   "outputs": [],
   "source": [
    "pred_input_func = tf.estimator.inputs.pandas_input_fn(x=scaled_X_test_df, batch_size=10, num_epochs=1, shuffle=False)"
   ]
  },
  {
   "cell_type": "markdown",
   "metadata": {},
   "source": [
    "### Running the Prediction on the model"
   ]
  },
  {
   "cell_type": "code",
   "execution_count": 23,
   "metadata": {},
   "outputs": [],
   "source": [
    "predictions = regressor_model.predict(input_fn = pred_input_func)"
   ]
  },
  {
   "cell_type": "markdown",
   "metadata": {},
   "source": [
    "### Conversion of Results"
   ]
  },
  {
   "cell_type": "code",
   "execution_count": 24,
   "metadata": {},
   "outputs": [
    {
     "name": "stdout",
     "output_type": "stream",
     "text": [
      "INFO:tensorflow:Calling model_fn.\n",
      "INFO:tensorflow:Done calling model_fn.\n",
      "INFO:tensorflow:Graph was finalized.\n",
      "INFO:tensorflow:Restoring parameters from C:\\Users\\niks8\\AppData\\Local\\Temp\\tmpge217w4s\\model.ckpt-25000\n",
      "INFO:tensorflow:Running local_init_op.\n",
      "INFO:tensorflow:Done running local_init_op.\n"
     ]
    }
   ],
   "source": [
    "predictions = [pred['predictions'] for pred in list(predictions)]"
   ]
  },
  {
   "cell_type": "markdown",
   "metadata": {},
   "source": [
    "## Calculating Loss over Predictions"
   ]
  },
  {
   "cell_type": "code",
   "execution_count": 25,
   "metadata": {},
   "outputs": [],
   "source": [
    "from sklearn.metrics import mean_squared_error"
   ]
  },
  {
   "cell_type": "code",
   "execution_count": 26,
   "metadata": {},
   "outputs": [
    {
     "data": {
      "text/plain": [
       "99729.88207803387"
      ]
     },
     "execution_count": 26,
     "metadata": {},
     "output_type": "execute_result"
    }
   ],
   "source": [
    "mean_squared_error(y_test, predictions)**0.5"
   ]
  },
  {
   "cell_type": "markdown",
   "metadata": {},
   "source": [
    "## Conclusion:"
   ]
  },
  {
   "cell_type": "code",
   "execution_count": 27,
   "metadata": {},
   "outputs": [
    {
     "name": "stdout",
     "output_type": "stream",
     "text": [
      "The final loss on the evaluation set is 99729.88207803387\n"
     ]
    }
   ],
   "source": [
    "print(f\"The final loss on the evaluation set is {mean_squared_error(y_test, predictions)**0.5}\")"
   ]
  }
 ],
 "metadata": {
  "kernelspec": {
   "display_name": "Python 3 (ipykernel)",
   "language": "python",
   "name": "python3"
  },
  "language_info": {
   "codemirror_mode": {
    "name": "ipython",
    "version": 3
   },
   "file_extension": ".py",
   "mimetype": "text/x-python",
   "name": "python",
   "nbconvert_exporter": "python",
   "pygments_lexer": "ipython3",
   "version": "3.9.6"
  }
 },
 "nbformat": 4,
 "nbformat_minor": 2
}
